{
 "cells": [
  {
   "cell_type": "code",
   "execution_count": null,
   "id": "986c6996",
   "metadata": {},
   "outputs": [],
   "source": [
    "from bs4 import BeautifulSoup\n",
    "import requests\n",
    "import pandas as pd\n",
    "url_base = 'https://movie.naver.com/movie/sdb/rank/rmovie.nhn?sel=cur&tg=0&date='\n",
    "url_sub = input('날짜를 입력하세요. (예) 20210906')\n",
    "url = url_base + url_sub\n",
    "res = requests.get(url)\n",
    "soup = BeautifulSoup(res.text, 'html.parser')\n",
    "\n",
    "\n",
    "movie_title = []\n",
    "star = []\n",
    "list_movie = soup.find_all('div', 'tit5')\n",
    "list_star = soup.find_all('td', 'point')\n",
    "\n",
    "for item in list_movie:\n",
    "    movie_title.append(item.find('a').get_text())\n",
    "\n",
    "for item in list_star:\n",
    "    star.append(item.get_text())\n",
    "\n",
    "\n",
    "df1 = pd.DataFrame(data = {'영화제목': movie_title, '평점': star},\n",
    "                   index = range(1,len(movie_title)+1))\n",
    "df1.to_csv('watcha_movie_rating.csv')"
   ]
  }
 ],
 "metadata": {
  "kernelspec": {
   "display_name": "Python 3",
   "language": "python",
   "name": "python3"
  },
  "language_info": {
   "codemirror_mode": {
    "name": "ipython",
    "version": 3
   },
   "file_extension": ".py",
   "mimetype": "text/x-python",
   "name": "python",
   "nbconvert_exporter": "python",
   "pygments_lexer": "ipython3",
   "version": "3.8.8"
  }
 },
 "nbformat": 4,
 "nbformat_minor": 5
}
