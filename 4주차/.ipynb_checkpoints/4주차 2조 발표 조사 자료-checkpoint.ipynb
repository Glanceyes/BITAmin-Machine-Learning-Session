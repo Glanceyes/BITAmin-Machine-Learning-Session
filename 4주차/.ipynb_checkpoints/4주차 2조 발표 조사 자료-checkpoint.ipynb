{
 "cells": [
  {
   "cell_type": "markdown",
   "id": "b0d7c8f7",
   "metadata": {},
   "source": [
    "<h2>iris 데이터 set 실습</h2>"
   ]
  },
  {
   "cell_type": "code",
   "execution_count": 1,
   "id": "8275f435",
   "metadata": {},
   "outputs": [
    {
     "name": "stdout",
     "output_type": "stream",
     "text": [
      "feature 평균\n",
      "sepal length (cm)    5.843333\n",
      "sepal width (cm)     3.057333\n",
      "petal length (cm)    3.758000\n",
      "petal width (cm)     1.199333\n",
      "dtype: float64\n",
      "feature 분산\n",
      "sepal length (cm)    0.685694\n",
      "sepal width (cm)     0.189979\n",
      "petal length (cm)    3.116278\n",
      "petal width (cm)     0.581006\n",
      "dtype: float64\n"
     ]
    }
   ],
   "source": [
    "from sklearn.datasets import load_iris\n",
    "import pandas as pd\n",
    "import numpy as np\n",
    "\n",
    "iris=load_iris()\n",
    "iris_data=iris.data\n",
    "iris_df=pd.DataFrame(data=iris_data, columns=iris.feature_names)\n",
    "\n",
    "print('feature 평균')\n",
    "print(iris_df.mean())\n",
    "print('feature 분산')\n",
    "print(iris_df.var())"
   ]
  },
  {
   "cell_type": "code",
   "execution_count": 2,
   "id": "5ec8ac24",
   "metadata": {},
   "outputs": [],
   "source": [
    "from sklearn.preprocessing import StandardScaler\n",
    "\n",
    "scaler=StandardScaler()\n",
    "# fit()에 매개변수로 전달할 데이터 프레임은 2차원 이상의 값이어야 한다.\n",
    "scaler.fit(iris_df)\n",
    "iris_scaled=scaler.transform(iris_df)"
   ]
  },
  {
   "cell_type": "code",
   "execution_count": 3,
   "id": "36bbe4bf",
   "metadata": {},
   "outputs": [
    {
     "name": "stdout",
     "output_type": "stream",
     "text": [
      "feature 평균\n",
      "sepal length (cm)   -1.690315e-15\n",
      "sepal width (cm)    -1.842970e-15\n",
      "petal length (cm)   -1.698641e-15\n",
      "petal width (cm)    -1.409243e-15\n",
      "dtype: float64\n",
      "feature 분산\n",
      "sepal length (cm)    1.006711\n",
      "sepal width (cm)     1.006711\n",
      "petal length (cm)    1.006711\n",
      "petal width (cm)     1.006711\n",
      "dtype: float64\n"
     ]
    }
   ],
   "source": [
    "# iris_scaled가 배열 형태이므로 데이터 프레임으로 변환해주는 작업이 필요하다.\n",
    "iris_df_scaled=pd.DataFrame(data=iris_scaled, columns=iris.feature_names)\n",
    "print('feature 평균')\n",
    "print(iris_df_scaled.mean())\n",
    "print('feature 분산')\n",
    "print(iris_df_scaled.var())"
   ]
  },
  {
   "cell_type": "markdown",
   "id": "af718878",
   "metadata": {},
   "source": [
    "<h4>각 feature의 평균과 분산이 각각 완전한 0과 1은 아니지만, <br><br>0과 1에 매우 가까운 값으로 변환되었음을 알 수 있다.</h4>"
   ]
  },
  {
   "cell_type": "code",
   "execution_count": 4,
   "id": "d2345381",
   "metadata": {},
   "outputs": [
    {
     "name": "stdout",
     "output_type": "stream",
     "text": [
      "feature 최솟값\n",
      "sepal length (cm)    0.0\n",
      "sepal width (cm)     0.0\n",
      "petal length (cm)    0.0\n",
      "petal width (cm)     0.0\n",
      "dtype: float64\n",
      "fearure 최댓값\n",
      "sepal length (cm)    1.0\n",
      "sepal width (cm)     1.0\n",
      "petal length (cm)    1.0\n",
      "petal width (cm)     1.0\n",
      "dtype: float64\n"
     ]
    }
   ],
   "source": [
    "from sklearn.preprocessing import MinMaxScaler\n",
    "\n",
    "scaler=MinMaxScaler()\n",
    "scaler.fit(iris_df)\n",
    "iris_scaled=scaler.transform(iris_df)\n",
    "\n",
    "# Scaler에 의해 변환된 데이터는 ndarray이므로 DataFrame으로 변환 필요\n",
    "iris_df_scaled=pd.DataFrame(data=iris_scaled, columns=iris.feature_names)\n",
    "print('feature 최솟값')\n",
    "print(iris_df_scaled.min())\n",
    "print('fearure 최댓값')\n",
    "print(iris_df_scaled.max())"
   ]
  },
  {
   "cell_type": "markdown",
   "id": "0c87aafc",
   "metadata": {
    "slideshow": {
     "slide_type": "notes"
    }
   },
   "source": [
    "<h2>스케일링 변환 시 주의사항</h2>"
   ]
  },
  {
   "cell_type": "code",
   "execution_count": 5,
   "id": "721ede90",
   "metadata": {},
   "outputs": [],
   "source": [
    "# 0에서 10까지의 정수를 train array에 저장\n",
    "train_array=np.arange(0,11).reshape(-1, 1)\n",
    "\n",
    "# 0에서 5까지의 정수를 test array에 저장\n",
    "test_array=np.arange(0,6).reshape(-1, 1)\n",
    "\n",
    "# reshape(-1, 정수): 열의 값을 정수로 지정해주면 변환될 배열의 행의 수는 알아서 지정된다는 의미이다."
   ]
  },
  {
   "cell_type": "code",
   "execution_count": 6,
   "id": "90832b83",
   "metadata": {
    "slideshow": {
     "slide_type": "notes"
    }
   },
   "outputs": [
    {
     "name": "stdout",
     "output_type": "stream",
     "text": [
      "train_array: [ 0  1  2  3  4  5  6  7  8  9 10]\n",
      "scaling 이후의 train_array: [0.  0.1 0.2 0.3 0.4 0.5 0.6 0.7 0.8 0.9 1. ]\n"
     ]
    }
   ],
   "source": [
    "scaler=MinMaxScaler()\n",
    "scaler.fit(train_array)\n",
    "train_scaled=scaler.transform(train_array)\n",
    "\n",
    "print('train_array:', np.round(train_array.reshape(-1),2))\n",
    "print('scaling 이후의 train_array:', np.round(train_scaled.reshape(-1),2))"
   ]
  },
  {
   "cell_type": "code",
   "execution_count": 7,
   "id": "dd30063f",
   "metadata": {},
   "outputs": [
    {
     "name": "stdout",
     "output_type": "stream",
     "text": [
      "test_array: [0 1 2 3 4 5]\n",
      "scaling 이후의 test_array: [0.  0.2 0.4 0.6 0.8 1. ]\n"
     ]
    }
   ],
   "source": [
    "# 테스트 데이터에 fit()을 적용했을 때의 값\n",
    "scaler.fit(test_array)\n",
    "test_scaled=scaler.transform(test_array)\n",
    "\n",
    "print('test_array:', np.round(test_array.reshape(-1),2))\n",
    "print('scaling 이후의 test_array:', np.round(test_scaled.reshape(-1),2))"
   ]
  },
  {
   "cell_type": "markdown",
   "id": "c2eb1f88",
   "metadata": {},
   "source": [
    "<h4>학습 데이터와 테스트 데이터의 스케일링이 부합하지 않는다.<br><br>fit()을 테스트 데이터에 적용하면 학습 데이터와는 또 다른 새로운 스케일링 기준 정보가 만들어진다.<br><br>그래서 테스트 데이터에는 다시 fit()을 적용하지 않아야 한다.<br><br>학습 데이터로 fit()을 수행한 결과를 이용해 transform()을 적용해야 한다.</h4>"
   ]
  },
  {
   "cell_type": "code",
   "execution_count": 8,
   "id": "52644adb",
   "metadata": {},
   "outputs": [
    {
     "name": "stdout",
     "output_type": "stream",
     "text": [
      "train_array: [ 0  1  2  3  4  5  6  7  8  9 10]\n",
      "scaling 이후의 train_array: [0.  0.1 0.2 0.3 0.4 0.5 0.6 0.7 0.8 0.9 1. ]\n",
      "test_array: [0 1 2 3 4 5]\n",
      "scaling 이후의 test_array: [0.  0.1 0.2 0.3 0.4 0.5]\n"
     ]
    }
   ],
   "source": [
    "scaler=MinMaxScaler()\n",
    "scaler.fit(train_array)\n",
    "train_scaled=scaler.transform(train_array)\n",
    "\n",
    "print('train_array:', np.round(train_array.reshape(-1),2))\n",
    "print('scaling 이후의 train_array:', np.round(train_scaled.reshape(-1),2))\n",
    "\n",
    "test_scaled=scaler.transform(test_array)\n",
    "\n",
    "print('test_array:', np.round(test_array.reshape(-1),2))\n",
    "print('scaling 이후의 test_array:', np.round(test_scaled.reshape(-1),2))"
   ]
  },
  {
   "cell_type": "markdown",
   "id": "c61d4ff2",
   "metadata": {},
   "source": [
    "<h4>처음부터 학습 데이터와 테스트 데이터로 분리하기 전에<br><br>우선 전체 데이터 세트에 관해서 스케일링을 적용하고 이를 분리하는 방법도 있다.</h4>"
   ]
  },
  {
   "cell_type": "code",
   "execution_count": 9,
   "id": "31cd3c39",
   "metadata": {},
   "outputs": [
    {
     "name": "stdout",
     "output_type": "stream",
     "text": [
      "train_array: [ 0  1  2  3  4  5  6  7  8  9 10]\n",
      "scaling 이후의 train_array: [0.  0.1 0.2 0.3 0.4 0.5 0.6 0.7 0.8 0.9 1. ]\n",
      "test_array: [0 1 2 3 4 5]\n",
      "scaling 이후의 test_array: [0.  0.1 0.2 0.3 0.4 0.5]\n"
     ]
    }
   ],
   "source": [
    "scaler=MinMaxScaler()\n",
    "train_scaled=scaler.fit_transform(train_array)\n",
    "\n",
    "print('train_array:', np.round(train_array.reshape(-1),2))\n",
    "print('scaling 이후의 train_array:', np.round(train_scaled.reshape(-1),2))\n",
    "\n",
    "test_scaled=scaler.transform(test_array)\n",
    "\n",
    "print('test_array:', np.round(test_array.reshape(-1),2))\n",
    "print('scaling 이후의 test_array:', np.round(test_scaled.reshape(-1),2))"
   ]
  },
  {
   "cell_type": "markdown",
   "id": "f814124e",
   "metadata": {},
   "source": [
    "<h2>titanic 데이터 set 실습</h2>"
   ]
  },
  {
   "cell_type": "code",
   "execution_count": 10,
   "id": "0edd5325",
   "metadata": {},
   "outputs": [
    {
     "data": {
      "text/html": [
       "<div>\n",
       "<style scoped>\n",
       "    .dataframe tbody tr th:only-of-type {\n",
       "        vertical-align: middle;\n",
       "    }\n",
       "\n",
       "    .dataframe tbody tr th {\n",
       "        vertical-align: top;\n",
       "    }\n",
       "\n",
       "    .dataframe thead th {\n",
       "        text-align: right;\n",
       "    }\n",
       "</style>\n",
       "<table border=\"1\" class=\"dataframe\">\n",
       "  <thead>\n",
       "    <tr style=\"text-align: right;\">\n",
       "      <th></th>\n",
       "      <th>PassengerId</th>\n",
       "      <th>Survived</th>\n",
       "      <th>Pclass</th>\n",
       "      <th>Name</th>\n",
       "      <th>Sex</th>\n",
       "      <th>Age</th>\n",
       "      <th>SibSp</th>\n",
       "      <th>Parch</th>\n",
       "      <th>Ticket</th>\n",
       "      <th>Fare</th>\n",
       "      <th>Cabin</th>\n",
       "      <th>Embarked</th>\n",
       "    </tr>\n",
       "  </thead>\n",
       "  <tbody>\n",
       "    <tr>\n",
       "      <th>0</th>\n",
       "      <td>1</td>\n",
       "      <td>0</td>\n",
       "      <td>3</td>\n",
       "      <td>Braund, Mr. Owen Harris</td>\n",
       "      <td>male</td>\n",
       "      <td>22.0</td>\n",
       "      <td>1</td>\n",
       "      <td>0</td>\n",
       "      <td>A/5 21171</td>\n",
       "      <td>7.2500</td>\n",
       "      <td>NaN</td>\n",
       "      <td>S</td>\n",
       "    </tr>\n",
       "    <tr>\n",
       "      <th>1</th>\n",
       "      <td>2</td>\n",
       "      <td>1</td>\n",
       "      <td>1</td>\n",
       "      <td>Cumings, Mrs. John Bradley (Florence Briggs Th...</td>\n",
       "      <td>female</td>\n",
       "      <td>38.0</td>\n",
       "      <td>1</td>\n",
       "      <td>0</td>\n",
       "      <td>PC 17599</td>\n",
       "      <td>71.2833</td>\n",
       "      <td>C85</td>\n",
       "      <td>C</td>\n",
       "    </tr>\n",
       "    <tr>\n",
       "      <th>2</th>\n",
       "      <td>3</td>\n",
       "      <td>1</td>\n",
       "      <td>3</td>\n",
       "      <td>Heikkinen, Miss. Laina</td>\n",
       "      <td>female</td>\n",
       "      <td>26.0</td>\n",
       "      <td>0</td>\n",
       "      <td>0</td>\n",
       "      <td>STON/O2. 3101282</td>\n",
       "      <td>7.9250</td>\n",
       "      <td>NaN</td>\n",
       "      <td>S</td>\n",
       "    </tr>\n",
       "    <tr>\n",
       "      <th>3</th>\n",
       "      <td>4</td>\n",
       "      <td>1</td>\n",
       "      <td>1</td>\n",
       "      <td>Futrelle, Mrs. Jacques Heath (Lily May Peel)</td>\n",
       "      <td>female</td>\n",
       "      <td>35.0</td>\n",
       "      <td>1</td>\n",
       "      <td>0</td>\n",
       "      <td>113803</td>\n",
       "      <td>53.1000</td>\n",
       "      <td>C123</td>\n",
       "      <td>S</td>\n",
       "    </tr>\n",
       "    <tr>\n",
       "      <th>4</th>\n",
       "      <td>5</td>\n",
       "      <td>0</td>\n",
       "      <td>3</td>\n",
       "      <td>Allen, Mr. William Henry</td>\n",
       "      <td>male</td>\n",
       "      <td>35.0</td>\n",
       "      <td>0</td>\n",
       "      <td>0</td>\n",
       "      <td>373450</td>\n",
       "      <td>8.0500</td>\n",
       "      <td>NaN</td>\n",
       "      <td>S</td>\n",
       "    </tr>\n",
       "  </tbody>\n",
       "</table>\n",
       "</div>"
      ],
      "text/plain": [
       "   PassengerId  Survived  Pclass  \\\n",
       "0            1         0       3   \n",
       "1            2         1       1   \n",
       "2            3         1       3   \n",
       "3            4         1       1   \n",
       "4            5         0       3   \n",
       "\n",
       "                                                Name     Sex   Age  SibSp  \\\n",
       "0                            Braund, Mr. Owen Harris    male  22.0      1   \n",
       "1  Cumings, Mrs. John Bradley (Florence Briggs Th...  female  38.0      1   \n",
       "2                             Heikkinen, Miss. Laina  female  26.0      0   \n",
       "3       Futrelle, Mrs. Jacques Heath (Lily May Peel)  female  35.0      1   \n",
       "4                           Allen, Mr. William Henry    male  35.0      0   \n",
       "\n",
       "   Parch            Ticket     Fare Cabin Embarked  \n",
       "0      0         A/5 21171   7.2500   NaN        S  \n",
       "1      0          PC 17599  71.2833   C85        C  \n",
       "2      0  STON/O2. 3101282   7.9250   NaN        S  \n",
       "3      0            113803  53.1000  C123        S  \n",
       "4      0            373450   8.0500   NaN        S  "
      ]
     },
     "execution_count": 10,
     "metadata": {},
     "output_type": "execute_result"
    }
   ],
   "source": [
    "train = pd.read_csv('https://bit.ly/fc-ml-titanic')\n",
    "train.head()"
   ]
  },
  {
   "cell_type": "code",
   "execution_count": 11,
   "id": "d107491a",
   "metadata": {},
   "outputs": [
    {
     "name": "stdout",
     "output_type": "stream",
     "text": [
      "<class 'pandas.core.frame.DataFrame'>\n",
      "RangeIndex: 891 entries, 0 to 890\n",
      "Data columns (total 12 columns):\n",
      " #   Column       Non-Null Count  Dtype  \n",
      "---  ------       --------------  -----  \n",
      " 0   PassengerId  891 non-null    int64  \n",
      " 1   Survived     891 non-null    int64  \n",
      " 2   Pclass       891 non-null    int64  \n",
      " 3   Name         891 non-null    object \n",
      " 4   Sex          891 non-null    object \n",
      " 5   Age          714 non-null    float64\n",
      " 6   SibSp        891 non-null    int64  \n",
      " 7   Parch        891 non-null    int64  \n",
      " 8   Ticket       891 non-null    object \n",
      " 9   Fare         891 non-null    float64\n",
      " 10  Cabin        204 non-null    object \n",
      " 11  Embarked     889 non-null    object \n",
      "dtypes: float64(2), int64(5), object(5)\n",
      "memory usage: 83.7+ KB\n"
     ]
    }
   ],
   "source": [
    "# 데이터 타입 파악하기\n",
    "train.info()"
   ]
  },
  {
   "cell_type": "code",
   "execution_count": 12,
   "id": "d8203e3a",
   "metadata": {},
   "outputs": [
    {
     "data": {
      "text/plain": [
       "PassengerId      0\n",
       "Survived         0\n",
       "Pclass           0\n",
       "Name             0\n",
       "Sex              0\n",
       "Age            177\n",
       "SibSp            0\n",
       "Parch            0\n",
       "Ticket           0\n",
       "Fare             0\n",
       "Cabin          687\n",
       "Embarked         2\n",
       "dtype: int64"
      ]
     },
     "execution_count": 12,
     "metadata": {},
     "output_type": "execute_result"
    }
   ],
   "source": [
    "# 컬럼별 결측치 확인하기\n",
    "train.isnull().sum(axis=0)"
   ]
  },
  {
   "cell_type": "code",
   "execution_count": 13,
   "id": "21e27ec6",
   "metadata": {},
   "outputs": [
    {
     "data": {
      "text/plain": [
       "Survived  Sex   \n",
       "0         female    25.046875\n",
       "          male      31.618056\n",
       "1         female    28.847716\n",
       "          male      27.276022\n",
       "Name: Age, dtype: float64"
      ]
     },
     "execution_count": 13,
     "metadata": {},
     "output_type": "execute_result"
    }
   ],
   "source": [
    "# Survived 여부와 성별에 따른 Age 평균 구하기\n",
    "train.groupby(['Survived', 'Sex'])['Age'].mean()"
   ]
  },
  {
   "cell_type": "code",
   "execution_count": 14,
   "id": "12c5ac18",
   "metadata": {},
   "outputs": [
    {
     "data": {
      "text/plain": [
       "0      22.000000\n",
       "1      38.000000\n",
       "2      26.000000\n",
       "3      35.000000\n",
       "4      35.000000\n",
       "         ...    \n",
       "886    27.000000\n",
       "887    19.000000\n",
       "888    25.046875\n",
       "889    26.000000\n",
       "890    32.000000\n",
       "Name: Age, Length: 891, dtype: float64"
      ]
     },
     "execution_count": 14,
     "metadata": {},
     "output_type": "execute_result"
    }
   ],
   "source": [
    "# Age 컬럼의 결측치를 Survived와 성별에 따른 Age의 평균값으로 바꾸기\n",
    "age_filled = train.groupby(['Survived', 'Sex'])['Age'].transform(lambda x: x.fillna(x.mean()))\n",
    "age_filled"
   ]
  },
  {
   "cell_type": "code",
   "execution_count": 15,
   "id": "655871a7",
   "metadata": {},
   "outputs": [],
   "source": [
    "# MinMaxScaler를 사용하여 결측치를 채운 Age 데이터를 정규화하기\n",
    "\n",
    "# MinMaxScaler는 2D array에 관해서만 적용 가능\n",
    "\n",
    "# reshape 메서드는 series에서 사용할 수 없는데 반해\n",
    "# age_filled는 series이므로 values 메서드를 통해\n",
    "# series를 numpy array로 변환해주기\n",
    "scaler = MinMaxScaler()\n",
    "train_age = age_filled.values.reshape(-1, 1)"
   ]
  },
  {
   "cell_type": "code",
   "execution_count": 16,
   "id": "effc2f32",
   "metadata": {},
   "outputs": [],
   "source": [
    "scaler.fit(train_age)\n",
    "age_scaled = scaler.transform(train_age)\n",
    "train['AgeScaled'] = pd.Series(age_scaled.reshape(-1))"
   ]
  },
  {
   "cell_type": "code",
   "execution_count": 17,
   "id": "b7b056ed",
   "metadata": {},
   "outputs": [
    {
     "data": {
      "text/html": [
       "<div>\n",
       "<style scoped>\n",
       "    .dataframe tbody tr th:only-of-type {\n",
       "        vertical-align: middle;\n",
       "    }\n",
       "\n",
       "    .dataframe tbody tr th {\n",
       "        vertical-align: top;\n",
       "    }\n",
       "\n",
       "    .dataframe thead th {\n",
       "        text-align: right;\n",
       "    }\n",
       "</style>\n",
       "<table border=\"1\" class=\"dataframe\">\n",
       "  <thead>\n",
       "    <tr style=\"text-align: right;\">\n",
       "      <th></th>\n",
       "      <th>PassengerId</th>\n",
       "      <th>Survived</th>\n",
       "      <th>Pclass</th>\n",
       "      <th>Name</th>\n",
       "      <th>Sex</th>\n",
       "      <th>Age</th>\n",
       "      <th>SibSp</th>\n",
       "      <th>Parch</th>\n",
       "      <th>Ticket</th>\n",
       "      <th>Fare</th>\n",
       "      <th>Cabin</th>\n",
       "      <th>Embarked</th>\n",
       "      <th>AgeScaled</th>\n",
       "    </tr>\n",
       "  </thead>\n",
       "  <tbody>\n",
       "    <tr>\n",
       "      <th>0</th>\n",
       "      <td>1</td>\n",
       "      <td>0</td>\n",
       "      <td>3</td>\n",
       "      <td>Braund, Mr. Owen Harris</td>\n",
       "      <td>male</td>\n",
       "      <td>22.0</td>\n",
       "      <td>1</td>\n",
       "      <td>0</td>\n",
       "      <td>A/5 21171</td>\n",
       "      <td>7.2500</td>\n",
       "      <td>NaN</td>\n",
       "      <td>S</td>\n",
       "      <td>0.271174</td>\n",
       "    </tr>\n",
       "    <tr>\n",
       "      <th>1</th>\n",
       "      <td>2</td>\n",
       "      <td>1</td>\n",
       "      <td>1</td>\n",
       "      <td>Cumings, Mrs. John Bradley (Florence Briggs Th...</td>\n",
       "      <td>female</td>\n",
       "      <td>38.0</td>\n",
       "      <td>1</td>\n",
       "      <td>0</td>\n",
       "      <td>PC 17599</td>\n",
       "      <td>71.2833</td>\n",
       "      <td>C85</td>\n",
       "      <td>C</td>\n",
       "      <td>0.472229</td>\n",
       "    </tr>\n",
       "    <tr>\n",
       "      <th>2</th>\n",
       "      <td>3</td>\n",
       "      <td>1</td>\n",
       "      <td>3</td>\n",
       "      <td>Heikkinen, Miss. Laina</td>\n",
       "      <td>female</td>\n",
       "      <td>26.0</td>\n",
       "      <td>0</td>\n",
       "      <td>0</td>\n",
       "      <td>STON/O2. 3101282</td>\n",
       "      <td>7.9250</td>\n",
       "      <td>NaN</td>\n",
       "      <td>S</td>\n",
       "      <td>0.321438</td>\n",
       "    </tr>\n",
       "    <tr>\n",
       "      <th>3</th>\n",
       "      <td>4</td>\n",
       "      <td>1</td>\n",
       "      <td>1</td>\n",
       "      <td>Futrelle, Mrs. Jacques Heath (Lily May Peel)</td>\n",
       "      <td>female</td>\n",
       "      <td>35.0</td>\n",
       "      <td>1</td>\n",
       "      <td>0</td>\n",
       "      <td>113803</td>\n",
       "      <td>53.1000</td>\n",
       "      <td>C123</td>\n",
       "      <td>S</td>\n",
       "      <td>0.434531</td>\n",
       "    </tr>\n",
       "    <tr>\n",
       "      <th>4</th>\n",
       "      <td>5</td>\n",
       "      <td>0</td>\n",
       "      <td>3</td>\n",
       "      <td>Allen, Mr. William Henry</td>\n",
       "      <td>male</td>\n",
       "      <td>35.0</td>\n",
       "      <td>0</td>\n",
       "      <td>0</td>\n",
       "      <td>373450</td>\n",
       "      <td>8.0500</td>\n",
       "      <td>NaN</td>\n",
       "      <td>S</td>\n",
       "      <td>0.434531</td>\n",
       "    </tr>\n",
       "  </tbody>\n",
       "</table>\n",
       "</div>"
      ],
      "text/plain": [
       "   PassengerId  Survived  Pclass  \\\n",
       "0            1         0       3   \n",
       "1            2         1       1   \n",
       "2            3         1       3   \n",
       "3            4         1       1   \n",
       "4            5         0       3   \n",
       "\n",
       "                                                Name     Sex   Age  SibSp  \\\n",
       "0                            Braund, Mr. Owen Harris    male  22.0      1   \n",
       "1  Cumings, Mrs. John Bradley (Florence Briggs Th...  female  38.0      1   \n",
       "2                             Heikkinen, Miss. Laina  female  26.0      0   \n",
       "3       Futrelle, Mrs. Jacques Heath (Lily May Peel)  female  35.0      1   \n",
       "4                           Allen, Mr. William Henry    male  35.0      0   \n",
       "\n",
       "   Parch            Ticket     Fare Cabin Embarked  AgeScaled  \n",
       "0      0         A/5 21171   7.2500   NaN        S   0.271174  \n",
       "1      0          PC 17599  71.2833   C85        C   0.472229  \n",
       "2      0  STON/O2. 3101282   7.9250   NaN        S   0.321438  \n",
       "3      0            113803  53.1000  C123        S   0.434531  \n",
       "4      0            373450   8.0500   NaN        S   0.434531  "
      ]
     },
     "execution_count": 17,
     "metadata": {},
     "output_type": "execute_result"
    }
   ],
   "source": [
    "train.head()"
   ]
  },
  {
   "cell_type": "code",
   "execution_count": 18,
   "id": "4a698f1c",
   "metadata": {},
   "outputs": [],
   "source": [
    "# Fare 컬럼은 결측치 존재하지 않으므로 별도의 처리 없이 진행\n",
    "\n",
    "# StandardScaler를 사용하여 Fare 데이터를 표준화하기\n",
    "\n",
    "# reshape 메서드는 series에서 사용할 수 없는데 반해\n",
    "# train['Fare']는 series이므로 values 메서드를 통해\n",
    "# series를 numpy array로 변환해주기\n",
    "\n",
    "scaler = StandardScaler()\n",
    "train_fare = train['Fare'].values.reshape(-1, 1)\n",
    "scaler.fit(train_fare)\n",
    "fare_scaled = scaler.transform(train_fare)\n",
    "train['FareScaled'] = pd.Series(fare_scaled.reshape(-1))"
   ]
  },
  {
   "cell_type": "code",
   "execution_count": 19,
   "id": "64bfdde7",
   "metadata": {
    "scrolled": true
   },
   "outputs": [
    {
     "data": {
      "text/html": [
       "<div>\n",
       "<style scoped>\n",
       "    .dataframe tbody tr th:only-of-type {\n",
       "        vertical-align: middle;\n",
       "    }\n",
       "\n",
       "    .dataframe tbody tr th {\n",
       "        vertical-align: top;\n",
       "    }\n",
       "\n",
       "    .dataframe thead th {\n",
       "        text-align: right;\n",
       "    }\n",
       "</style>\n",
       "<table border=\"1\" class=\"dataframe\">\n",
       "  <thead>\n",
       "    <tr style=\"text-align: right;\">\n",
       "      <th></th>\n",
       "      <th>PassengerId</th>\n",
       "      <th>Survived</th>\n",
       "      <th>Pclass</th>\n",
       "      <th>Name</th>\n",
       "      <th>Sex</th>\n",
       "      <th>Age</th>\n",
       "      <th>SibSp</th>\n",
       "      <th>Parch</th>\n",
       "      <th>Ticket</th>\n",
       "      <th>Fare</th>\n",
       "      <th>Cabin</th>\n",
       "      <th>Embarked</th>\n",
       "      <th>AgeScaled</th>\n",
       "      <th>FareScaled</th>\n",
       "    </tr>\n",
       "  </thead>\n",
       "  <tbody>\n",
       "    <tr>\n",
       "      <th>0</th>\n",
       "      <td>1</td>\n",
       "      <td>0</td>\n",
       "      <td>3</td>\n",
       "      <td>Braund, Mr. Owen Harris</td>\n",
       "      <td>male</td>\n",
       "      <td>22.0</td>\n",
       "      <td>1</td>\n",
       "      <td>0</td>\n",
       "      <td>A/5 21171</td>\n",
       "      <td>7.2500</td>\n",
       "      <td>NaN</td>\n",
       "      <td>S</td>\n",
       "      <td>0.271174</td>\n",
       "      <td>-0.502445</td>\n",
       "    </tr>\n",
       "    <tr>\n",
       "      <th>1</th>\n",
       "      <td>2</td>\n",
       "      <td>1</td>\n",
       "      <td>1</td>\n",
       "      <td>Cumings, Mrs. John Bradley (Florence Briggs Th...</td>\n",
       "      <td>female</td>\n",
       "      <td>38.0</td>\n",
       "      <td>1</td>\n",
       "      <td>0</td>\n",
       "      <td>PC 17599</td>\n",
       "      <td>71.2833</td>\n",
       "      <td>C85</td>\n",
       "      <td>C</td>\n",
       "      <td>0.472229</td>\n",
       "      <td>0.786845</td>\n",
       "    </tr>\n",
       "    <tr>\n",
       "      <th>2</th>\n",
       "      <td>3</td>\n",
       "      <td>1</td>\n",
       "      <td>3</td>\n",
       "      <td>Heikkinen, Miss. Laina</td>\n",
       "      <td>female</td>\n",
       "      <td>26.0</td>\n",
       "      <td>0</td>\n",
       "      <td>0</td>\n",
       "      <td>STON/O2. 3101282</td>\n",
       "      <td>7.9250</td>\n",
       "      <td>NaN</td>\n",
       "      <td>S</td>\n",
       "      <td>0.321438</td>\n",
       "      <td>-0.488854</td>\n",
       "    </tr>\n",
       "    <tr>\n",
       "      <th>3</th>\n",
       "      <td>4</td>\n",
       "      <td>1</td>\n",
       "      <td>1</td>\n",
       "      <td>Futrelle, Mrs. Jacques Heath (Lily May Peel)</td>\n",
       "      <td>female</td>\n",
       "      <td>35.0</td>\n",
       "      <td>1</td>\n",
       "      <td>0</td>\n",
       "      <td>113803</td>\n",
       "      <td>53.1000</td>\n",
       "      <td>C123</td>\n",
       "      <td>S</td>\n",
       "      <td>0.434531</td>\n",
       "      <td>0.420730</td>\n",
       "    </tr>\n",
       "    <tr>\n",
       "      <th>4</th>\n",
       "      <td>5</td>\n",
       "      <td>0</td>\n",
       "      <td>3</td>\n",
       "      <td>Allen, Mr. William Henry</td>\n",
       "      <td>male</td>\n",
       "      <td>35.0</td>\n",
       "      <td>0</td>\n",
       "      <td>0</td>\n",
       "      <td>373450</td>\n",
       "      <td>8.0500</td>\n",
       "      <td>NaN</td>\n",
       "      <td>S</td>\n",
       "      <td>0.434531</td>\n",
       "      <td>-0.486337</td>\n",
       "    </tr>\n",
       "  </tbody>\n",
       "</table>\n",
       "</div>"
      ],
      "text/plain": [
       "   PassengerId  Survived  Pclass  \\\n",
       "0            1         0       3   \n",
       "1            2         1       1   \n",
       "2            3         1       3   \n",
       "3            4         1       1   \n",
       "4            5         0       3   \n",
       "\n",
       "                                                Name     Sex   Age  SibSp  \\\n",
       "0                            Braund, Mr. Owen Harris    male  22.0      1   \n",
       "1  Cumings, Mrs. John Bradley (Florence Briggs Th...  female  38.0      1   \n",
       "2                             Heikkinen, Miss. Laina  female  26.0      0   \n",
       "3       Futrelle, Mrs. Jacques Heath (Lily May Peel)  female  35.0      1   \n",
       "4                           Allen, Mr. William Henry    male  35.0      0   \n",
       "\n",
       "   Parch            Ticket     Fare Cabin Embarked  AgeScaled  FareScaled  \n",
       "0      0         A/5 21171   7.2500   NaN        S   0.271174   -0.502445  \n",
       "1      0          PC 17599  71.2833   C85        C   0.472229    0.786845  \n",
       "2      0  STON/O2. 3101282   7.9250   NaN        S   0.321438   -0.488854  \n",
       "3      0            113803  53.1000  C123        S   0.434531    0.420730  \n",
       "4      0            373450   8.0500   NaN        S   0.434531   -0.486337  "
      ]
     },
     "execution_count": 19,
     "metadata": {},
     "output_type": "execute_result"
    }
   ],
   "source": [
    "train.head()"
   ]
  },
  {
   "cell_type": "code",
   "execution_count": 20,
   "id": "6cba8562",
   "metadata": {},
   "outputs": [
    {
     "name": "stdout",
     "output_type": "stream",
     "text": [
      "Age의 정규화 적용 전 후 평균과 분산 비교\n",
      "Age          29.699118\n",
      "AgeScaled     0.368749\n",
      "dtype: float64\n",
      "Age          211.019125\n",
      "AgeScaled      0.026850\n",
      "dtype: float64\n",
      "\n",
      "Fare의 표준화 적용 전 후 평균과 분산 비교\n",
      "Fare          3.220421e+01\n",
      "FareScaled   -4.373606e-17\n",
      "dtype: float64\n",
      "Fare          2469.436846\n",
      "FareScaled       1.001124\n",
      "dtype: float64\n"
     ]
    }
   ],
   "source": [
    "# Feature Scaling 적용 전과 후 비교\n",
    "\n",
    "print('Age의 정규화 적용 전 후 평균과 분산 비교')\n",
    "print(train[['Age', 'AgeScaled']].mean())\n",
    "print(train[['Age', 'AgeScaled']].var())\n",
    "print('\\nFare의 표준화 적용 전 후 평균과 분산 비교')\n",
    "print(train[['Fare', 'FareScaled']].mean())\n",
    "print(train[['Fare', 'FareScaled']].var())"
   ]
  },
  {
   "cell_type": "code",
   "execution_count": 26,
   "id": "1e26624e",
   "metadata": {},
   "outputs": [
    {
     "name": "stdout",
     "output_type": "stream",
     "text": [
      "표준화 전 이상치가 있는 데이터\n",
      "평균:  103.6 \n",
      "분산:  298.8100399919654\n",
      "\n",
      "표준화 후 데이터\n",
      "평균:  4.4408920985006264e-17 \n",
      "분산:  1.0\n",
      "평균 근삿값:  0.0 \n",
      "분산 근삿값:  1.0\n"
     ]
    }
   ],
   "source": [
    "from sklearn.preprocessing import StandardScaler\n",
    "import numpy as np\n",
    "\n",
    "standard_scaler = StandardScaler()\n",
    "\n",
    "# 샘플 데이터를 생성한다.\n",
    "x = np.arange(10)\n",
    "\n",
    "# outlier(이상치)를 생성한다.\n",
    "x[9] = 1000\n",
    "\n",
    "# 표준화 전 이상치가 있는 데이터의 평균과 분산\n",
    "print('표준화 전 이상치가 있는 데이터')\n",
    "print('평균: ', x.mean(), '\\n분산: ', x.std())\n",
    "\n",
    "# 데이터에 관해 표준화를 진행한다.\n",
    "scaled = standard_scaler.fit_transform(x.reshape(-1, 1))\n",
    "print('\\n표준화 후 데이터')\n",
    "print('평균: ', scaled.mean(), '\\n분산: ', scaled.std())\n",
    "print('평균 근삿값: ', round(scaled.mean(), 2), '\\n분산 근삿값: ', round(scaled.std(), 2))"
   ]
  },
  {
   "cell_type": "code",
   "execution_count": 38,
   "id": "d8bd180e",
   "metadata": {},
   "outputs": [
    {
     "name": "stdout",
     "output_type": "stream",
     "text": [
      "이상치 추가 전의 데이터\n",
      "평균:  0.5 \n",
      "분산:  0.31914236925211265\n",
      "\n",
      "이상치 추가 후의 데이터\n",
      "평균:  0.1036 \n",
      "분산:  0.2988100399919655\n"
     ]
    }
   ],
   "source": [
    "from sklearn.preprocessing import MinMaxScaler\n",
    "import numpy as np\n",
    "\n",
    "# 이상치 추가 전 데이터의 평균과 분산\n",
    "y = np.arange(10)\n",
    "scaled = MinMaxScaler().fit_transform(y.reshape(-1, 1))\n",
    "\n",
    "\n",
    "print('이상치 추가 전의 데이터')\n",
    "print('평균: ', scaled.mean(), '\\n분산: ', scaled.std())\n",
    "\n",
    "# 이상치 추가 후 데이터의 평균과 분산\n",
    "y[9] = 1000\n",
    "scaled = MinMaxScaler().fit_transform(y.reshape(-1, 1))\n",
    "print('\\n이상치 추가 후의 데이터')\n",
    "print('평균: ', scaled.mean(), '\\n분산: ', scaled.std())"
   ]
  },
  {
   "cell_type": "code",
   "execution_count": null,
   "id": "bda8a5bb",
   "metadata": {},
   "outputs": [],
   "source": []
  }
 ],
 "metadata": {
  "kernelspec": {
   "display_name": "Python 3",
   "language": "python",
   "name": "python3"
  },
  "language_info": {
   "codemirror_mode": {
    "name": "ipython",
    "version": 3
   },
   "file_extension": ".py",
   "mimetype": "text/x-python",
   "name": "python",
   "nbconvert_exporter": "python",
   "pygments_lexer": "ipython3",
   "version": "3.8.8"
  }
 },
 "nbformat": 4,
 "nbformat_minor": 5
}
