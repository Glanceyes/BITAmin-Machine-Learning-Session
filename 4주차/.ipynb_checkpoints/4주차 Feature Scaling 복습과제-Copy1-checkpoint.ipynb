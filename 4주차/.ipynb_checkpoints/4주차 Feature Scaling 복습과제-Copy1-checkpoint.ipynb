{
 "cells": [
  {
   "cell_type": "markdown",
   "id": "a33e532e",
   "metadata": {},
   "source": [
    "<h2>Feature Scaling</h2>"
   ]
  },
  {
   "cell_type": "markdown",
   "id": "8d7de680",
   "metadata": {},
   "source": [
    "<p style=\"line-height:200%\">학구열로 불타오르는 타민이는 정규 세션에서 배운 <b>Feature Scaling</b> 내용을 스스로 공부해보려고 한다.</p>\n",
    "<br>\n",
    "<p style=\"line-height:200%\">최근 영화에 관심에 생긴 타민이는 네이버 영화와 왓챠를 자주 이용한다. 영화 평점에 굉장히 민감한 타민이는 최근 유행하는 영화 50편의 평점 데이터를 네이버와 왓챠피디아에서 가져왔고, 이를 통해 두 영화 평점 사이트의 데이터를 비교해보고자 한다. 고민에 빠진 타민이를 도와주자!</p>"
   ]
  },
  {
   "cell_type": "code",
   "execution_count": 1,
   "id": "d652a5ec",
   "metadata": {},
   "outputs": [],
   "source": [
    "from sklearn.preprocessing import MinMaxScaler\n",
    "import pandas as pd\n",
    "import numpy as np\n",
    "\n",
    "naver_data = pd.read_csv('naver_movie_rating.csv')\n",
    "watcha_data = pd.read_csv('watcha_movie_rating.csv')\n",
    "\n",
    "# 완성되지 않은 부분을 채우세요!\n",
    "\n",
    "# naver_data에서 movie_rating 컬럼만 추출하여 1차원 numpy array로 변환해준다.\n",
    "naver_rating = \n",
    "\n",
    "# watcha_data에서 movie_rating 컬럼만 추출하여 1차원 numpy array로 변환해준다.\n",
    "watcha_rating = "
   ]
  },
  {
   "cell_type": "markdown",
   "id": "6f6db915",
   "metadata": {},
   "source": [
    "<p style=\"line-height:200%\">네이버에서는 영화 평점을 <b>최소 0점부터 최대 10점까지</b> 부여할 수 있고, 왓챠에서는 영화 평점을 <b>최소 0점부터 최대 5점까지</b> 부여할 수 있다. 즉, 네이버와 왓챠의 평점은 <b>각각 10점, 5점이 만점</b>이고, <b>최저점으로 0점</b>이 존재할 수 있다.</p>\n",
    "<br>\n",
    "<p style=\"line-height:200%\">이를 고려하여 각 사이트의 평점 데이터를 <b>0부터 1까지의 범위</b>로 스케일링한 결과를 구해보자.</p>\n",
    "<br>\n",
    "<p style=\"line-height:200%\"><b>※ MinMaxScaler 사용</b></p>"
   ]
  },
  {
   "cell_type": "code",
   "execution_count": 2,
   "id": "8f5b1b1d",
   "metadata": {},
   "outputs": [
    {
     "name": "stdout",
     "output_type": "stream",
     "text": [
      "스케일링 된 네이버 영화 평점 데이터\n",
      "최저 평점:  0.57\n",
      "최고 평점:  0.93\n",
      "평균 평점:  0.82\n",
      "평점 분산:  0.01\n"
     ]
    }
   ],
   "source": [
    "# 완성되지 않은 부분을 채우세요!\n",
    "\n",
    "## 미완성 부분 ##\n",
    "\n",
    "naver_rating_scaled = \n",
    "\n",
    "print('스케일링 된 네이버 영화 평점 데이터')\n",
    "print('최저 평점: ', np.round(naver_rating_scaled.min(),2))\n",
    "print('최고 평점: ', np.round(naver_rating_scaled.max(),2))\n",
    "print('평균 평점: ', np.round(naver_rating_scaled.mean(),2))\n",
    "print('평점 분산: ', np.round(naver_rating_scaled.var(),2))"
   ]
  },
  {
   "cell_type": "markdown",
   "id": "18bff4fc",
   "metadata": {},
   "source": [
    "<p style=\"line-height:200%\"><b>아래의 결과처럼 나오도록 한다.</b></p>\n",
    "<br>\n",
    "스케일링 된 네이버 영화 평점 데이터<br>\n",
    "최저 평점:  0.57<br>\n",
    "최고 평점:  0.93<br>\n",
    "평균 평점:  0.82<br>\n",
    "평점 분산:  0.01<br>"
   ]
  },
  {
   "cell_type": "code",
   "execution_count": 3,
   "id": "3f44c046",
   "metadata": {},
   "outputs": [
    {
     "name": "stdout",
     "output_type": "stream",
     "text": [
      "스케일링 된 왓챠 영화 평점 데이터\n",
      "최저 평점:  0.5\n",
      "최고 평점:  0.84\n",
      "평균 평점:  0.71\n",
      "평점 분산:  0.01\n"
     ]
    }
   ],
   "source": [
    "# 완성되지 않은 부분을 채우세요!\n",
    "\n",
    "## 미완성 부분 ##\n",
    "\n",
    "watcha_rating_scaled = \n",
    "\n",
    "print('스케일링 된 왓챠 영화 평점 데이터')\n",
    "print('최저 평점: ', np.round(watcha_rating_scaled.min(),2))\n",
    "print('최고 평점: ', np.round(watcha_rating_scaled.max(),2))\n",
    "print('평균 평점: ', np.round(watcha_rating_scaled.mean(),2))\n",
    "print('평점 분산: ', np.round(watcha_rating_scaled.var(),2))"
   ]
  },
  {
   "cell_type": "markdown",
   "id": "689288ce",
   "metadata": {},
   "source": [
    "<p style=\"line-height:200%\"><b>아래의 결과처럼 나오도록 한다.</b></p>\n",
    "<br>\n",
    "스케일링 된 왓챠 영화 평점 데이터<br>\n",
    "최저 평점:  0.5<br>\n",
    "최고 평점:  0.84<br>\n",
    "평균 평점:  0.71<br>\n",
    "평점 분산:  0.01<br>"
   ]
  },
  {
   "cell_type": "markdown",
   "id": "db73dde3",
   "metadata": {},
   "source": [
    "<p style=\"line-height:200%\">만약 네이버와 왓챠 평점의 <b>만점이 모두 10점</b>이고, 조사한 왓챠 평점 데이터가 5점 만점이 아닌 <b>10점 만점일 때의 데이터</b>라고 가정해 보자.</p>\n",
    "<br>\n",
    "<p>이 때 왓챠 사이트의 평점 데이터를 <b>0부터 1까지의 범위</b>로 스케일링한 결과를 각각 구해보자.</p>"
   ]
  },
  {
   "cell_type": "code",
   "execution_count": 4,
   "id": "f72d9246",
   "metadata": {},
   "outputs": [
    {
     "name": "stdout",
     "output_type": "stream",
     "text": [
      "스케일링 된 10점 만점의 왓챠 영화 평점 데이터\n",
      "최저 평점:  0.25\n",
      "최고 평점:  0.42\n",
      "평균 평점:  0.36\n",
      "평점 분산:  0.0\n"
     ]
    }
   ],
   "source": [
    "# 완성되지 않은 부분을 채우세요!\n",
    "\n",
    "## 미완성 부분 ##\n",
    "\n",
    "watcha_rating_scaled = \n",
    "\n",
    "print('스케일링 된 10점 만점의 왓챠 영화 평점 데이터')\n",
    "print('최저 평점: ', np.round(watcha_rating_scaled.min(),2))\n",
    "print('최고 평점: ', np.round(watcha_rating_scaled.max(),2))\n",
    "print('평균 평점: ', np.round(watcha_rating_scaled.mean(),2))\n",
    "print('평점 분산: ', np.round(watcha_rating_scaled.var(),2))"
   ]
  }
 ],
 "metadata": {
  "kernelspec": {
   "display_name": "Python 3",
   "language": "python",
   "name": "python3"
  },
  "language_info": {
   "codemirror_mode": {
    "name": "ipython",
    "version": 3
   },
   "file_extension": ".py",
   "mimetype": "text/x-python",
   "name": "python",
   "nbconvert_exporter": "python",
   "pygments_lexer": "ipython3",
   "version": "3.8.8"
  }
 },
 "nbformat": 4,
 "nbformat_minor": 5
}
