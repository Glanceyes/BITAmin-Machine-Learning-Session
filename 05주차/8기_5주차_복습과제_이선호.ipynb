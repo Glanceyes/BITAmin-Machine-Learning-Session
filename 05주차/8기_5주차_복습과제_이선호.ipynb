{
 "cells": [
  {
   "cell_type": "markdown",
   "metadata": {},
   "source": [
    "## 문제 1"
   ]
  },
  {
   "cell_type": "markdown",
   "metadata": {},
   "source": [
    "### 1-1. 분류 평가지표 중 '정밀도'와 '재현율'에 대한 개념과 이 둘은 어떤 관계인지 설명해주세요."
   ]
  },
  {
   "cell_type": "code",
   "execution_count": null,
   "metadata": {},
   "outputs": [],
   "source": [
    "정밀도는 실제 값이 Negative이든 Positive이든 예측을 Positive으로 했을 때 실제 값도 Positive인 비율을 의미한다.\n",
    "재현율은 예측 결과와 상관없이 실제 값이 Positive인 경우에서 예측을 Positive로 한 비율을 의미한다.\n",
    "\n",
    "정밀도와 재현율은 서로 트레이드 오프 관계에 있다. \n",
    "이진 분류의 결정 임계값을 낮추면 다수의 경우를 Positive로 예측하므로 재현율은 증가하고 정밀도는 감소한다.\n",
    "반면에 결정 임계값을 높이면 좀 더 신중하게 Positive 값을 예측하므로 재현율은 감소하고 정밀도는 증가한다."
   ]
  },
  {
   "cell_type": "markdown",
   "metadata": {},
   "source": [
    "### 1-2.  '정밀도'와 '재현율'의 관계로 인하여 다른 어떤 평가지표를 쓰는 것이 좋은지 이유와 함께 설명해주세요."
   ]
  },
  {
   "cell_type": "code",
   "execution_count": null,
   "metadata": {},
   "outputs": [],
   "source": [
    "정밀도와 재현율은 서로 트레이드 오프 관계를 가지므로 어떤 하나의 지표만 좋다고 해서 그 머신러닝 모델의 성능이 좋다고 말하기 어렵다.\n",
    "그래서 모델 자체가 얼마나 효과적인지를 설명하는 지표로 F1 Score가 있고, 이는 정밀도와 재현율의 조화평균을 구하는 것이다.\n",
    "F1 Score를 사용하면 임계값을 조정하여 정밀도와 재현율 중 어느 한 지표로 결과가 치중되지 않는 최적의 모델을 찾을 수 있다.\n",
    "이진 분류기 성능을 평가하는 또 다른 지표로 ROC curve가 존재하는데, 이는 거짓을 양성으로 예측한 비율에 대한 참을 양성을 예측한 비율의 곡선이다."
   ]
  },
  {
   "cell_type": "markdown",
   "metadata": {},
   "source": [
    "***"
   ]
  },
  {
   "cell_type": "markdown",
   "metadata": {},
   "source": [
    "## 문제 2"
   ]
  },
  {
   "cell_type": "markdown",
   "metadata": {},
   "source": [
    "### 정밀도와 재현율이 각각 더 중요한 사례를 들어주세요.\n",
    "- 정밀도가 중요한 사례와 재현율이 중요한 사례 총 2가지를 적어주셔야 합니다.\n",
    "- 되도록이면 PPT 이외의 사례를 들어주세요!"
   ]
  },
  {
   "cell_type": "code",
   "execution_count": null,
   "metadata": {},
   "outputs": [],
   "source": [
    "정밀도가 더 중요한 사례로는 사용자의 개인정보와 성향을 기반으로 하는 온라인 맞춤형 광고 서비스가 있을 것이다.\n",
    "예를 들어 IT에 관심이 많은 사람을 대상으로 하는 광고의 게시 효율성을 판단하려고 하면, IT이 아닌 다른 관심사에 흥미가 있는 사람에게 해당 광고를 보여주는 건 수익성에 있어서 효율적이지 않다.\n",
    "일례로 여행에 관심이 있는 사람(실제는 Negative)을 IT에 관심이 큰 사람으로 예상(예측을 Postivie)해서 IT 관련 광고를 내보내는 경우는 가능한 없어야 한다.\n",
    "그러므로 이런 상황에서는 정밀도를 예측 모델의 평가 지표로 사용하는 것이 더 바람직하다."
   ]
  },
  {
   "cell_type": "code",
   "execution_count": null,
   "metadata": {},
   "outputs": [],
   "source": [
    "재현율이 더 중요한 상황의 예시로는 코로나 양성 여부 판정 검사가 있을 것이다. \n",
    "코로나 음성으로 예측 결과가 나온 사람이 실제로 코로나 양성인 경우 검사 후에 본인이 의도치 않게 주변에 코로나 바이러스를 전파하여 지역사회의 코로나 감염 유행을 초래할 수 있다.\n",
    "따라서 실제로 양성인 데이터를 음성으로 잘못 판단하면 사회적으로 큰 피해를 입는 경우에 해당되므로 재현율을 예측 모델의 평가 지표로 사용하기에 더 적합할 것이다."
   ]
  },
  {
   "cell_type": "markdown",
   "metadata": {},
   "source": [
    "***"
   ]
  },
  {
   "cell_type": "markdown",
   "metadata": {},
   "source": [
    "## 문제3"
   ]
  },
  {
   "cell_type": "code",
   "execution_count": 1,
   "metadata": {},
   "outputs": [],
   "source": [
    "import pandas as pd\n",
    "import numpy as np\n",
    "import matplotlib.pyplot as plt\n",
    "import seaborn as sns\n",
    "import sklearn"
   ]
  },
  {
   "cell_type": "code",
   "execution_count": 2,
   "metadata": {},
   "outputs": [],
   "source": [
    "from sklearn.model_selection import train_test_split\n",
    "from sklearn.linear_model import LogisticRegression\n",
    "from sklearn.metrics import accuracy_score, recall_score, precision_score, confusion_matrix\n",
    "from sklearn.datasets import load_breast_cancer\n",
    "from sklearn.metrics import precision_recall_curve\n",
    "from sklearn.preprocessing import Binarizer"
   ]
  },
  {
   "cell_type": "code",
   "execution_count": 3,
   "metadata": {},
   "outputs": [],
   "source": [
    "import matplotlib.pyplot as plt\n",
    "import matplotlib.ticker as ticker\n",
    "%matplotlib inline"
   ]
  },
  {
   "cell_type": "markdown",
   "metadata": {},
   "source": [
    "### [ 종양종류 예측해보기 ]\n",
    "- load_breast_cancer은 위스콘신 유방암 데이터로 악성종양(malignant)과 양성종양(benign)으로 구분되는 데이터세트 입니다.\n",
    "- 타깃 레이블 값의 종류는 악성이 '0'으로 양성이 '1'로 되어 있습니다."
   ]
  },
  {
   "cell_type": "markdown",
   "metadata": {},
   "source": [
    "#### 기본 제공 코드"
   ]
  },
  {
   "cell_type": "code",
   "execution_count": 4,
   "metadata": {},
   "outputs": [],
   "source": [
    "# 데이텃셋 로드 및 X,y 지정\n",
    "dataset = load_breast_cancer()\n",
    "X_features=dataset.data\n",
    "y_label=dataset.target"
   ]
  },
  {
   "cell_type": "code",
   "execution_count": 5,
   "metadata": {},
   "outputs": [
    {
     "name": "stdout",
     "output_type": "stream",
     "text": [
      "(398, 30) (171, 30)\n"
     ]
    }
   ],
   "source": [
    "# `train_test_split`으로 train, test 데이터 분리\n",
    "\n",
    "X_train,X_test,y_train,y_test = train_test_split(X_features, y_label, test_size=0.3, random_state=11)\n",
    "print(X_train.shape, X_test.shape)"
   ]
  },
  {
   "cell_type": "code",
   "execution_count": 6,
   "metadata": {},
   "outputs": [],
   "source": [
    "# RandomForest 객체 생성 후 예측 수행\n",
    "\n",
    "from sklearn.ensemble import RandomForestClassifier\n",
    "rf_clf = RandomForestClassifier(random_state = 0)\n",
    "rf_clf.fit(X_train, y_train)\n",
    "pred = rf_clf.predict(X_test)\n",
    "pred_proba = rf_clf.predict_proba(X_test)[:,1]"
   ]
  },
  {
   "cell_type": "markdown",
   "metadata": {},
   "source": [
    "### 3-1. 정확도, 정밀도, 재현율, 오차행렬을 산출하세요.\n",
    "- get_clf_eval 함수를 활용하세요."
   ]
  },
  {
   "cell_type": "code",
   "execution_count": 7,
   "metadata": {},
   "outputs": [
    {
     "name": "stdout",
     "output_type": "stream",
     "text": [
      "오차행렬\n",
      "[[ 56   5]\n",
      " [  1 109]]\n",
      "정확도: 0.9649, 정밀도: 0.9561, 재현율: 0.9909\n"
     ]
    }
   ],
   "source": [
    "def get_clf_eval(y_test, pred):\n",
    "    confusion = confusion_matrix(y_test, pred)\n",
    "    accuracy = accuracy_score(y_test, pred)\n",
    "    precision = precision_score(y_test, pred)\n",
    "    recall = recall_score(y_test, pred)\n",
    "    print('오차행렬')\n",
    "    print(confusion)\n",
    "    \n",
    "    print('정확도: {0:.4f}, 정밀도: {1:.4f}, 재현율: {2:.4f}'.format(accuracy, precision, recall))\n",
    "\n",
    "get_clf_eval(y_test, pred)"
   ]
  },
  {
   "cell_type": "markdown",
   "metadata": {},
   "source": [
    "### 3-2. 임계값이 0.3, 0.5, 0.7, 0.9일때 오차행렬, 정확도, 정밀도, 재현율을 구하세요."
   ]
  },
  {
   "cell_type": "code",
   "execution_count": 8,
   "metadata": {},
   "outputs": [],
   "source": [
    "thresholds = [ 0.3, 0.5, 0.7, 0.9]"
   ]
  },
  {
   "cell_type": "code",
   "execution_count": 9,
   "metadata": {},
   "outputs": [
    {
     "name": "stdout",
     "output_type": "stream",
     "text": [
      "임계값:  0.3\n",
      "오차행렬\n",
      "[[ 51  10]\n",
      " [  0 110]]\n",
      "정확도: 0.9415, 정밀도: 0.9167, 재현율: 1.0000\n",
      "\n",
      "임계값:  0.5\n",
      "오차행렬\n",
      "[[ 56   5]\n",
      " [  1 109]]\n",
      "정확도: 0.9649, 정밀도: 0.9561, 재현율: 0.9909\n",
      "\n",
      "임계값:  0.7\n",
      "오차행렬\n",
      "[[ 59   2]\n",
      " [  4 106]]\n",
      "정확도: 0.9649, 정밀도: 0.9815, 재현율: 0.9636\n",
      "\n",
      "임계값:  0.9\n",
      "오차행렬\n",
      "[[59  2]\n",
      " [11 99]]\n",
      "정확도: 0.9240, 정밀도: 0.9802, 재현율: 0.9000\n",
      "\n"
     ]
    }
   ],
   "source": [
    "def get_eval_by_threshold(y_test, pred_proba, thresholds):\n",
    "    for i in thresholds:\n",
    "        binarizer = Binarizer(threshold = i).fit(pred_proba)\n",
    "        new_pred = binarizer.transform(pred_proba)\n",
    "        print('임계값: ', i)\n",
    "        get_clf_eval(y_test, new_pred)\n",
    "        print('')\n",
    "        \n",
    "get_eval_by_threshold(y_test, pred_proba.reshape(-1, 1), thresholds)"
   ]
  },
  {
   "cell_type": "markdown",
   "metadata": {},
   "source": [
    "### 3-3. 위의 임곗값들 중 어떤 것이 가장 적절할까요? 답과 그 이유를 적어주세요."
   ]
  },
  {
   "cell_type": "code",
   "execution_count": null,
   "metadata": {},
   "outputs": [],
   "source": [
    "임계값을 0.7로 설정하는 것이 가장 적절해보인다. \n",
    "정밀도와 재현율의 차이가 0.0179로 위의 임계값 후보들 중에서 가장 작고, 정확도도 가장 높다."
   ]
  },
  {
   "cell_type": "markdown",
   "metadata": {},
   "source": [
    "***"
   ]
  },
  {
   "cell_type": "markdown",
   "metadata": {},
   "source": [
    "## 문제 4"
   ]
  },
  {
   "cell_type": "markdown",
   "metadata": {},
   "source": [
    "### 4-1. F1 스코어의 개념과 어떨 때 상대적으로 높은 값를 가지는지 적어주세요."
   ]
  },
  {
   "cell_type": "code",
   "execution_count": null,
   "metadata": {},
   "outputs": [],
   "source": [
    "F1 Score는 모델 자체가 얼마나 효과적인지를 설명하는 지표이며, 정밀도와 재현율의 조화평균을 의미한다.\n",
    "F1 Score는 정밀도와 재현율이 큰 차이를 보이지 않을 때 상대적으로 높은 값을 가지게 된다."
   ]
  },
  {
   "cell_type": "markdown",
   "metadata": {},
   "source": [
    "### 4-2. F1 스코어를 구하세요."
   ]
  },
  {
   "cell_type": "code",
   "execution_count": 10,
   "metadata": {},
   "outputs": [
    {
     "name": "stdout",
     "output_type": "stream",
     "text": [
      "f1 score: 0.973\n"
     ]
    }
   ],
   "source": [
    "from sklearn.metrics import f1_score\n",
    "\n",
    "print(f'f1 score: {f1_score(y_test, pred):.3f}')"
   ]
  },
  {
   "cell_type": "markdown",
   "metadata": {},
   "source": [
    "### 4-3. `get_clf_eval()` 함수에 F1 스코어를 구하는 코드를 추가하세요."
   ]
  },
  {
   "cell_type": "code",
   "execution_count": 11,
   "metadata": {},
   "outputs": [],
   "source": [
    "def get_clf_eval(y_test, pred):\n",
    "    confusion = confusion_matrix(y_test, pred)\n",
    "    accuracy = accuracy_score(y_test, pred)\n",
    "    precision = precision_score(y_test, pred)\n",
    "    recall = recall_score(y_test, pred)\n",
    "    f1 = f1_score(y_test, pred)\n",
    "    print('오차행렬')\n",
    "    print(confusion)\n",
    "    print('정확도: {0:.4f}, 정밀도: {1:.4f}, 재현율: {2:.4f}, F1 Score: {3:.2f}'.format(accuracy, precision, recall, f1))"
   ]
  },
  {
   "cell_type": "markdown",
   "metadata": {},
   "source": [
    "### 4-4. <U>F1 스코어 >= 0.98</U>이 되도록 값을 출력하세요.  (다른 평가 지표의 값은 무시)\n",
    "  \n",
    "`Hint : 임계값 조정`"
   ]
  },
  {
   "cell_type": "code",
   "execution_count": 12,
   "metadata": {},
   "outputs": [
    {
     "name": "stdout",
     "output_type": "stream",
     "text": [
      "오차행렬\n",
      "[[ 59   2]\n",
      " [  2 108]]\n",
      "정확도: 0.9766, 정밀도: 0.9818, 재현율: 0.9818, F1 Score: 0.98\n"
     ]
    }
   ],
   "source": [
    "binarizer = Binarizer(threshold = 0.6).fit(pred_proba.reshape(-1, 1))\n",
    "new_pred = binarizer.transform(pred_proba.reshape(-1, 1))\n",
    "get_clf_eval(y_test, new_pred)"
   ]
  },
  {
   "cell_type": "markdown",
   "metadata": {},
   "source": [
    "***"
   ]
  },
  {
   "cell_type": "markdown",
   "metadata": {},
   "source": [
    "## 문제 5"
   ]
  },
  {
   "cell_type": "markdown",
   "metadata": {},
   "source": [
    "### 5-1. ROC-AUC가 무엇인지 설명하세요. "
   ]
  },
  {
   "cell_type": "code",
   "execution_count": null,
   "metadata": {},
   "outputs": [],
   "source": [
    "# ROC 곡선 : 거짓 양성 비율(FPR)에 대한 참 양성 비율(TNR)을 곡선으로 나타낸 것이다. (FPR 대신 TNR을 사용하기도 한다.)\n",
    "# TPR(True Positive Rate) : 실제로 양성이면서 예측도 마찬가지로 양성으로 판단한 비율을 의미한다.\n",
    "# TNR(True Negative Rate) : 실제로 음성이면서 예측도 마찬가지로 음성으로 판단한 비율을 의미한다.\n",
    "# AUC(Area Under Curve) : ROC 곡선의 아래 면적의 값이다."
   ]
  },
  {
   "cell_type": "markdown",
   "metadata": {},
   "source": [
    "### 5-2. ROC-AUC 값을 구하세요. "
   ]
  },
  {
   "cell_type": "code",
   "execution_count": 13,
   "metadata": {},
   "outputs": [
    {
     "name": "stdout",
     "output_type": "stream",
     "text": [
      "ROC-AUC 값: 0.9903\n"
     ]
    }
   ],
   "source": [
    "from sklearn.metrics import roc_auc_score\n",
    "print('ROC-AUC 값: {0:.4f}'.format(roc_auc_score(y_test, pred_proba)))"
   ]
  }
 ],
 "metadata": {
  "kernelspec": {
   "display_name": "Python 3",
   "language": "python",
   "name": "python3"
  },
  "language_info": {
   "codemirror_mode": {
    "name": "ipython",
    "version": 3
   },
   "file_extension": ".py",
   "mimetype": "text/x-python",
   "name": "python",
   "nbconvert_exporter": "python",
   "pygments_lexer": "ipython3",
   "version": "3.8.8"
  }
 },
 "nbformat": 4,
 "nbformat_minor": 4
}
